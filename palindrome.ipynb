{
 "cells": [
  {
   "cell_type": "code",
   "execution_count": 3,
   "id": "49cee54e",
   "metadata": {},
   "outputs": [
    {
     "name": "stdout",
     "output_type": "stream",
     "text": [
      "\n",
      "============================== ALL TESTS PASSED! ===============================\n",
      "Your submission code: bw5a137af434b22dce4b6c174e3de60dfdd65f7d05ed3b68f4359e8e6f\n",
      "================================================================================\n",
      "\n"
     ]
    }
   ],
   "source": [
    "# Executed this cell to grade my work\n",
    "from bwsi_grader.python.palindrome import grader\n",
    "\n",
    "def student_func(x): \n",
    "    # Convert the string to lowercase and remove spaces\n",
    "    x = x.lower().replace(\" \", \"\")\n",
    "    \n",
    "    # Check if the string is equal to its reverse\n",
    "    return x == x[::-1]\n",
    "grader(student_func)\n"
   ]
  },
  {
   "cell_type": "code",
   "execution_count": null,
   "id": "7d57e8c9",
   "metadata": {},
   "outputs": [],
   "source": []
  },
  {
   "cell_type": "code",
   "execution_count": null,
   "id": "507e1d24",
   "metadata": {},
   "outputs": [],
   "source": []
  }
 ],
 "metadata": {
  "kernelspec": {
   "display_name": "Python 3 (ipykernel)",
   "language": "python",
   "name": "python3"
  },
  "language_info": {
   "codemirror_mode": {
    "name": "ipython",
    "version": 3
   },
   "file_extension": ".py",
   "mimetype": "text/x-python",
   "name": "python",
   "nbconvert_exporter": "python",
   "pygments_lexer": "ipython3",
   "version": "3.9.13"
  }
 },
 "nbformat": 4,
 "nbformat_minor": 5
}
